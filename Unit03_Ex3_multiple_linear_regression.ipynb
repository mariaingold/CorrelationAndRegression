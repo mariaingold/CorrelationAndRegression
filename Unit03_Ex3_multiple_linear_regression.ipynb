{
  "cells": [
    {
      "cell_type": "markdown",
      "source": [
        "# MULTIPLE LINEAR REGRESSION\n",
        "\n",
        "- Best fitting straight line through a set of data points.\n",
        "- x = independent variable\n",
        "- y = dependent variable; y = f(x)\n",
        "\n",
        "Predicting future values\n",
        "- Once have line can predict y for any x.\n",
        "- What this doesn't specify is error.\n",
        "\n",
        "\n",
        "Had to fix for UoEO\n",
        "1. Wrong CSV file provided. Actual is here: https://www.kaggle.com/datasets/chowdeswarreddy/carscsv\n",
        "2. User warning. Added feature_df as UoEO trained model with a DataFrame (with column names as featuer names), then tried to predict using NumPy array (without feature names),"
      ],
      "metadata": {
        "id": "h7gUhJS6WPUA"
      }
    },
    {
      "cell_type": "code",
      "execution_count": 9,
      "metadata": {
        "id": "hOdqTJG-WOs3",
        "outputId": "b19e7ab7-5351-4a9e-8bbe-0185f68c67f1",
        "colab": {
          "base_uri": "https://localhost:8080/"
        }
      },
      "outputs": [
        {
          "output_type": "stream",
          "name": "stdout",
          "text": [
            "[107.2087328]\n"
          ]
        }
      ],
      "source": [
        "import pandas\n",
        "from sklearn import linear_model\n",
        "\n",
        "df = pandas.read_csv(\"cars.csv\")\n",
        "\n",
        "X = df[['Weight', 'Volume']]\n",
        "y = df['CO2']\n",
        "\n",
        "regr = linear_model.LinearRegression()\n",
        "regr.fit(X, y)\n",
        "\n",
        "# Predict the CO2 emission of a car where the weight is 2300kg, and the volume is 1300cm3:\n",
        "\n",
        "feature_df = pandas.DataFrame([[2300, 1300]], columns=['Weight', 'Volume'])\n",
        "predictedCO2 = regr.predict(feature_df)\n",
        "print(predictedCO2)"
      ]
    },
    {
      "cell_type": "markdown",
      "metadata": {
        "id": "rcJc6Q4JWOs4"
      },
      "source": [
        "# Coefficient"
      ]
    },
    {
      "cell_type": "markdown",
      "metadata": {
        "id": "BZhspfaSWOs5"
      },
      "source": [
        "The coefficient is a factor that describes the relationship with an unknown variable.\n",
        "In this case, we can ask for the coefficient value of weight against CO2, and for volume against CO2. The answer(s) we get tells us what would happen if we increase, or decrease, one of the independent values."
      ]
    },
    {
      "cell_type": "code",
      "execution_count": 10,
      "metadata": {
        "id": "VyGpwtqBWOs5",
        "outputId": "4714675b-3f89-43db-b9c5-91ff314ea6cc",
        "colab": {
          "base_uri": "https://localhost:8080/"
        }
      },
      "outputs": [
        {
          "output_type": "stream",
          "name": "stdout",
          "text": [
            "[0.00755095 0.00780526]\n"
          ]
        }
      ],
      "source": [
        "print(regr.coef_)"
      ]
    },
    {
      "cell_type": "markdown",
      "metadata": {
        "id": "LGpPJ0OhWOs6"
      },
      "source": [
        "The result array represents the coefficient values of weight and volume.\n",
        "\n",
        "Weight: 0.00755095\n",
        "Volume: 0.00780526\n",
        "\n",
        "These values tell us that if the weight increases by 1kg, the CO2 emission increases by 0.00755095g.\n",
        "\n",
        "And if the engine size (Volume) increases by 1 cm3, the CO2 emission increases by 0.00780526 g.\n",
        "\n",
        "I think that is a fair guess, but let us test it!"
      ]
    },
    {
      "cell_type": "markdown",
      "source": [
        "We have already predicted that if a car with a 1300cm3 engine weighs 2300kg, the CO2 emission will be approximately 107g.\n",
        "\n",
        "What if we increase the weight with 1000kg (from 2300 to 3300) what will be the CO2 emission?\n",
        "\n",
        "Ans: 107.2087328 + (1000 * 0.00755095) = 114.75968"
      ],
      "metadata": {
        "id": "pjAMCxjdlFO7"
      }
    },
    {
      "cell_type": "code",
      "execution_count": 11,
      "metadata": {
        "id": "Knra151qWOs6",
        "outputId": "efe2e6ea-21d6-4879-c01e-0e3d0595734e",
        "colab": {
          "base_uri": "https://localhost:8080/"
        }
      },
      "outputs": [
        {
          "output_type": "stream",
          "name": "stdout",
          "text": [
            "[114.75968007]\n"
          ]
        }
      ],
      "source": [
        "# Predict CO2 emmisison of a car with weight 3300Kg, and volume 1300cm3.\n",
        "\n",
        "feature_df = pandas.DataFrame([[3300, 1300]], columns=['Weight', 'Volume'])\n",
        "predictedCO2 = regr.predict(feature_df)\n",
        "print(predictedCO2)"
      ]
    },
    {
      "cell_type": "code",
      "source": [
        "# Predict CO2 emmisison of a car with weight 1000Kg, and volume 1600cm3. (MX5)\n",
        "\n",
        "feature_df = pandas.DataFrame([[1000, 1600]], columns=['Weight', 'Volume'])\n",
        "predictedCO2 = regr.predict(feature_df)\n",
        "print(predictedCO2)"
      ],
      "metadata": {
        "id": "W-OEbjn2mzEX",
        "outputId": "344c08e3-3ae7-4f49-eb26-1ff10a838b15",
        "colab": {
          "base_uri": "https://localhost:8080/"
        }
      },
      "execution_count": 13,
      "outputs": [
        {
          "output_type": "stream",
          "name": "stdout",
          "text": [
            "[99.73407861]\n"
          ]
        }
      ]
    }
  ],
  "metadata": {
    "kernelspec": {
      "display_name": "Python 3",
      "language": "python",
      "name": "python3"
    },
    "language_info": {
      "codemirror_mode": {
        "name": "ipython",
        "version": 3
      },
      "file_extension": ".py",
      "mimetype": "text/x-python",
      "name": "python",
      "nbconvert_exporter": "python",
      "pygments_lexer": "ipython3",
      "version": "3.7.6"
    },
    "colab": {
      "provenance": []
    }
  },
  "nbformat": 4,
  "nbformat_minor": 0
}